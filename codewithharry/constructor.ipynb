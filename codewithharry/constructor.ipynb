{
 "cells": [
  {
   "cell_type": "code",
   "execution_count": 1,
   "metadata": {},
   "outputs": [],
   "source": [
    "class HouseHold:\n",
    "    def __init__(self,fname,lname):\n",
    "        self.fname = fname\n",
    "        self.lname = lname\n",
    "    \n",
    "\n",
    "    def full_name(self):\n",
    "        return f\"{self.fname} {self.lname}\""
   ]
  },
  {
   "cell_type": "code",
   "execution_count": 2,
   "metadata": {},
   "outputs": [],
   "source": [
    "emp1 = HouseHold(\"Mehdi\",\"Abbas\")"
   ]
  },
  {
   "cell_type": "code",
   "execution_count": 3,
   "metadata": {},
   "outputs": [
    {
     "name": "stdout",
     "output_type": "stream",
     "text": [
      "Abbas\n"
     ]
    }
   ],
   "source": [
    "print(emp1.lname)"
   ]
  },
  {
   "cell_type": "code",
   "execution_count": 7,
   "metadata": {},
   "outputs": [],
   "source": [
    "class Person:\n",
    "    def __init__(self, name,occ):\n",
    "        self.name = name\n",
    "        self.occ = occ\n",
    "\n",
    "    def info(self):\n",
    "        return f\"{self.name} is a {self.occ}\""
   ]
  },
  {
   "cell_type": "code",
   "execution_count": 9,
   "metadata": {},
   "outputs": [],
   "source": [
    "a = Person(\"Mehdi\",\"Sofware\")"
   ]
  },
  {
   "cell_type": "code",
   "execution_count": 10,
   "metadata": {},
   "outputs": [
    {
     "data": {
      "text/plain": [
       "'Mehdi'"
      ]
     },
     "execution_count": 10,
     "metadata": {},
     "output_type": "execute_result"
    }
   ],
   "source": [
    "a.name"
   ]
  },
  {
   "cell_type": "code",
   "execution_count": 14,
   "metadata": {},
   "outputs": [],
   "source": [
    "with open(\"MyFile.txt\",mode=\"w\") as f:\n",
    "    f.write('''\n",
    "Two Types Of Constructors : \n",
    "1. Parameterized Constructor;\n",
    "def __init__(self, name,occ):\n",
    "        self.name = name\n",
    "        self.occ = occ\n",
    "2. Default Constructor;\n",
    "def __init__(self):\n",
    "    print(\"Hello\")\n",
    "''')"
   ]
  },
  {
   "cell_type": "code",
   "execution_count": 17,
   "metadata": {},
   "outputs": [
    {
     "name": "stdout",
     "output_type": "stream",
     "text": [
      "['Two Types Of Constructors : \\n', '1. Parameterized Constructor;\\n', 'def __init__(self, name,occ):\\n', '        self.name = name\\n', '        self.occ = occ\\n', '2. Default Constructor;\\n', 'def __init__(self):\\n', '    print(\"Hello\")']\n"
     ]
    }
   ],
   "source": [
    "with open(\"MyFile.txt\",mode=\"r\") as f:\n",
    "    print(f.readlines())"
   ]
  },
  {
   "cell_type": "code",
   "execution_count": null,
   "metadata": {},
   "outputs": [],
   "source": []
  }
 ],
 "metadata": {
  "kernelspec": {
   "display_name": "base",
   "language": "python",
   "name": "python3"
  },
  "language_info": {
   "codemirror_mode": {
    "name": "ipython",
    "version": 3
   },
   "file_extension": ".py",
   "mimetype": "text/x-python",
   "name": "python",
   "nbconvert_exporter": "python",
   "pygments_lexer": "ipython3",
   "version": "3.11.5"
  }
 },
 "nbformat": 4,
 "nbformat_minor": 2
}
